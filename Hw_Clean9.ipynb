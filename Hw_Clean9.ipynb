{
 "cells": [
  {
   "cell_type": "code",
   "execution_count": 1,
   "id": "1d5339bf-931d-4cd5-8aae-dab7661c1167",
   "metadata": {
    "execution": {
     "iopub.execute_input": "2023-11-27T21:44:30.356490Z",
     "iopub.status.busy": "2023-11-27T21:44:30.356263Z",
     "iopub.status.idle": "2023-11-27T21:44:32.947984Z",
     "shell.execute_reply": "2023-11-27T21:44:32.947352Z",
     "shell.execute_reply.started": "2023-11-27T21:44:30.356466Z"
    },
    "tags": []
   },
   "outputs": [
    {
     "name": "stdout",
     "output_type": "stream",
     "text": [
      "Requirement already satisfied: numpy in /opt/saturncloud/envs/saturn/lib/python3.9/site-packages (1.26.2)\n"
     ]
    }
   ],
   "source": [
    "#!pip install tflite-runtime\n",
    "#!pip install keras_image_helper\n",
    "#!pip install --upgrade numpy"
   ]
  },
  {
   "cell_type": "code",
   "execution_count": 2,
   "id": "5e9687d2-c9bd-41b4-8612-4a93eafb1f5b",
   "metadata": {
    "execution": {
     "iopub.execute_input": "2023-11-27T21:44:32.949910Z",
     "iopub.status.busy": "2023-11-27T21:44:32.949571Z",
     "iopub.status.idle": "2023-11-27T21:44:33.080083Z",
     "shell.execute_reply": "2023-11-27T21:44:33.079506Z",
     "shell.execute_reply.started": "2023-11-27T21:44:32.949881Z"
    },
    "tags": []
   },
   "outputs": [],
   "source": [
    "import numpy as np\n",
    "import tflite_runtime.interpreter as tflite\n",
    "from keras_image_helper import create_preprocessor"
   ]
  },
  {
   "cell_type": "code",
   "execution_count": 14,
   "id": "4e339ce0-4fe2-4732-8f83-62e488b15a40",
   "metadata": {
    "execution": {
     "iopub.execute_input": "2023-11-27T22:24:56.941008Z",
     "iopub.status.busy": "2023-11-27T22:24:56.940334Z",
     "iopub.status.idle": "2023-11-27T22:24:56.983399Z",
     "shell.execute_reply": "2023-11-27T22:24:56.982551Z",
     "shell.execute_reply.started": "2023-11-27T22:24:56.940980Z"
    },
    "tags": []
   },
   "outputs": [],
   "source": [
    "# intrepreter_hw=tflite.Interpreter(model_path='/home/jovyan/workspace/bees-wasps.tflite')\n",
    "intrepreter_hw=tflite.Interpreter(model_path='/home/jovyan/workspace/FilesDump/bees-wasps.tflite')\n",
    "intrepreter_hw.allocate_tensors()\n",
    "inputhw_index=intrepreter_hw.get_input_details()[0]['index']\n",
    "outputhw_index=intrepreter_hw.get_output_details()[0]['index']\n",
    "# intrepreter_hw.set_tensor(inputhw_index,X)\n",
    "# intrepreter_hw.invoke()\n",
    "# preds=intrepreter_hw.get_tensor(outputhw_index)"
   ]
  },
  {
   "cell_type": "code",
   "execution_count": null,
   "id": "d81f7c57-3de7-44f4-897c-c2d3f3d539bd",
   "metadata": {
    "execution": {
     "iopub.status.busy": "2023-11-27T21:44:33.394457Z",
     "iopub.status.idle": "2023-11-27T21:44:33.394789Z",
     "shell.execute_reply": "2023-11-27T21:44:33.394635Z",
     "shell.execute_reply.started": "2023-11-27T21:44:33.394622Z"
    },
    "tags": []
   },
   "outputs": [],
   "source": [
    "#preds=intrepreter_hw.get_tensor(outputhw_index)"
   ]
  },
  {
   "cell_type": "code",
   "execution_count": null,
   "id": "f8f2f9d4-113b-4595-9246-9d11532b4503",
   "metadata": {
    "execution": {
     "iopub.status.busy": "2023-11-27T21:44:33.395693Z",
     "iopub.status.idle": "2023-11-27T21:44:33.395971Z",
     "shell.execute_reply": "2023-11-27T21:44:33.395836Z",
     "shell.execute_reply.started": "2023-11-27T21:44:33.395821Z"
    },
    "tags": []
   },
   "outputs": [],
   "source": [
    "# intrepreter_hw.get_input_details(),intrepreter_hw.get_output_details()"
   ]
  },
  {
   "cell_type": "code",
   "execution_count": 15,
   "id": "be79329d-d86c-43de-804b-7e2b5735fb08",
   "metadata": {
    "execution": {
     "iopub.execute_input": "2023-11-27T22:25:00.412540Z",
     "iopub.status.busy": "2023-11-27T22:25:00.412174Z",
     "iopub.status.idle": "2023-11-27T22:25:00.417160Z",
     "shell.execute_reply": "2023-11-27T22:25:00.416504Z",
     "shell.execute_reply.started": "2023-11-27T22:25:00.412518Z"
    },
    "tags": []
   },
   "outputs": [],
   "source": [
    "from io import BytesIO\n",
    "from urllib import request\n",
    "\n",
    "from PIL import Image\n",
    "\n",
    "def download_image(url):\n",
    "    with request.urlopen(url) as resp:\n",
    "        buffer = resp.read()\n",
    "    stream = BytesIO(buffer)\n",
    "    img = Image.open(stream)\n",
    "    return img\n",
    "\n",
    "\n",
    "def prepare_image(img, target_size):\n",
    "    if img.mode != 'RGB':\n",
    "        img = img.convert('RGB')\n",
    "    img = img.resize(target_size, Image.NEAREST)\n",
    "    return img"
   ]
  },
  {
   "cell_type": "code",
   "execution_count": 16,
   "id": "03d3ef08-1595-432c-a848-d021d5cc7589",
   "metadata": {
    "execution": {
     "iopub.execute_input": "2023-11-27T22:25:07.375788Z",
     "iopub.status.busy": "2023-11-27T22:25:07.375411Z",
     "iopub.status.idle": "2023-11-27T22:25:08.583778Z",
     "shell.execute_reply": "2023-11-27T22:25:08.583191Z",
     "shell.execute_reply.started": "2023-11-27T22:25:07.375764Z"
    },
    "tags": []
   },
   "outputs": [],
   "source": [
    "url='https://habrastorage.org/webt/rt/d9/dh/rtd9dhsmhwrdezeldzoqgijdg8a.jpeg'\n",
    "img=download_image(url)\n",
    "# print(img.mode)\n",
    "# img"
   ]
  },
  {
   "cell_type": "code",
   "execution_count": 17,
   "id": "d8663ba5-99fc-4afd-9c02-d046e7589900",
   "metadata": {
    "execution": {
     "iopub.execute_input": "2023-11-27T22:25:10.993157Z",
     "iopub.status.busy": "2023-11-27T22:25:10.992783Z",
     "iopub.status.idle": "2023-11-27T22:25:11.014544Z",
     "shell.execute_reply": "2023-11-27T22:25:11.013938Z",
     "shell.execute_reply.started": "2023-11-27T22:25:10.993132Z"
    },
    "tags": []
   },
   "outputs": [],
   "source": [
    "img=prepare_image(img,(150,150))"
   ]
  },
  {
   "cell_type": "code",
   "execution_count": 18,
   "id": "e356862a-f0a1-4663-8597-ab37bdeee4ce",
   "metadata": {
    "execution": {
     "iopub.execute_input": "2023-11-27T22:25:12.292499Z",
     "iopub.status.busy": "2023-11-27T22:25:12.292131Z",
     "iopub.status.idle": "2023-11-27T22:25:12.295826Z",
     "shell.execute_reply": "2023-11-27T22:25:12.295098Z",
     "shell.execute_reply.started": "2023-11-27T22:25:12.292475Z"
    },
    "tags": []
   },
   "outputs": [],
   "source": [
    "def preprocess_input(x):\n",
    "    return x / 255.0"
   ]
  },
  {
   "cell_type": "code",
   "execution_count": 19,
   "id": "63699ed5-39f2-482a-8aff-ddca310c805a",
   "metadata": {
    "execution": {
     "iopub.execute_input": "2023-11-27T22:25:14.604988Z",
     "iopub.status.busy": "2023-11-27T22:25:14.603583Z",
     "iopub.status.idle": "2023-11-27T22:25:14.608759Z",
     "shell.execute_reply": "2023-11-27T22:25:14.608045Z",
     "shell.execute_reply.started": "2023-11-27T22:25:14.604949Z"
    },
    "tags": []
   },
   "outputs": [],
   "source": [
    "x=np.array(img, dtype='float32')"
   ]
  },
  {
   "cell_type": "code",
   "execution_count": 20,
   "id": "598d6167-c8b9-405b-a383-0603e3226eca",
   "metadata": {
    "execution": {
     "iopub.execute_input": "2023-11-27T22:25:15.925482Z",
     "iopub.status.busy": "2023-11-27T22:25:15.925104Z",
     "iopub.status.idle": "2023-11-27T22:25:15.930370Z",
     "shell.execute_reply": "2023-11-27T22:25:15.929804Z",
     "shell.execute_reply.started": "2023-11-27T22:25:15.925458Z"
    },
    "tags": []
   },
   "outputs": [
    {
     "data": {
      "text/plain": [
       "0.94509804"
      ]
     },
     "execution_count": 20,
     "metadata": {},
     "output_type": "execute_result"
    }
   ],
   "source": [
    "X=preprocess_input(np.array([x]))\n",
    "X[0,0,0,0]\n"
   ]
  },
  {
   "cell_type": "code",
   "execution_count": 22,
   "id": "fa4d535d-cb0c-4fb8-b561-a0064beb1de4",
   "metadata": {
    "execution": {
     "iopub.execute_input": "2023-11-27T22:25:25.276732Z",
     "iopub.status.busy": "2023-11-27T22:25:25.276362Z",
     "iopub.status.idle": "2023-11-27T22:25:25.284462Z",
     "shell.execute_reply": "2023-11-27T22:25:25.283870Z",
     "shell.execute_reply.started": "2023-11-27T22:25:25.276708Z"
    },
    "tags": []
   },
   "outputs": [],
   "source": [
    "intrepreter_hw.set_tensor(inputhw_index,X)\n",
    "intrepreter_hw.invoke()\n",
    "preds=intrepreter_hw.get_tensor(outputhw_index)"
   ]
  },
  {
   "cell_type": "code",
   "execution_count": 23,
   "id": "fca96f3c-d048-41b2-b085-3b3dc3a0229a",
   "metadata": {
    "execution": {
     "iopub.execute_input": "2023-11-27T22:25:26.788063Z",
     "iopub.status.busy": "2023-11-27T22:25:26.787680Z",
     "iopub.status.idle": "2023-11-27T22:25:26.793032Z",
     "shell.execute_reply": "2023-11-27T22:25:26.792340Z",
     "shell.execute_reply.started": "2023-11-27T22:25:26.788041Z"
    },
    "tags": []
   },
   "outputs": [
    {
     "data": {
      "text/plain": [
       "array([0.65898407], dtype=float32)"
      ]
     },
     "execution_count": 23,
     "metadata": {},
     "output_type": "execute_result"
    }
   ],
   "source": [
    "preds[0]"
   ]
  }
 ],
 "metadata": {
  "kernelspec": {
   "display_name": "saturn (Python 3)",
   "language": "python",
   "name": "python3"
  },
  "language_info": {
   "codemirror_mode": {
    "name": "ipython",
    "version": 3
   },
   "file_extension": ".py",
   "mimetype": "text/x-python",
   "name": "python",
   "nbconvert_exporter": "python",
   "pygments_lexer": "ipython3",
   "version": "3.9.15"
  }
 },
 "nbformat": 4,
 "nbformat_minor": 5
}
